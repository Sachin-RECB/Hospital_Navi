{
  "cells": [
    {
      "cell_type": "markdown",
      "metadata": {
        "colab_type": "text",
        "id": "view-in-github"
      },
      "source": [
        "<a href=\"https://colab.research.google.com/github/Sachin-RECB/Hospital_Navi/blob/main/HospitalNavPrototype.ipynb\" target=\"_parent\"><img src=\"https://colab.research.google.com/assets/colab-badge.svg\" alt=\"Open In Colab\"/></a>"
      ]
    },
    {
      "cell_type": "markdown",
      "metadata": {
        "id": "Cm-5zVsF-M0b"
      },
      "source": [
        "\n",
        "\n",
        "---\n",
        "\n",
        "### To initialize the code click Runtime and then Run all\n",
        "<img src=\"https://github.com/Fuenfgeld/HospitalNavigator/raw/main/img/RunAll.png\" width=\"520\" height=\"132\" alt=\"Run All\"/>\n",
        "\n",
        "\n",
        "---\n",
        "\n",
        "\n",
        "### Every Cell can be run individualy by clicking the Play Button\n",
        "<img src=\"https://github.com/Fuenfgeld/HospitalNavigator/raw/main/img/RunCell.png\" width=\"295\" height=\"88\" />\n",
        "\n",
        "\n",
        "---\n",
        "\n"
      ]
    },
    {
      "cell_type": "code",
      "execution_count": 1,
      "metadata": {
        "id": "dfKK5g2kUQns"
      },
      "outputs": [
        {
          "ename": "ModuleNotFoundError",
          "evalue": "No module named 'folium'",
          "output_type": "error",
          "traceback": [
            "\u001b[1;31m---------------------------------------------------------------------------\u001b[0m",
            "\u001b[1;31mModuleNotFoundError\u001b[0m                       Traceback (most recent call last)",
            "\u001b[1;32md:\\github\\Hospital_nav\\HospitalNavPrototype.ipynb Cell 3'\u001b[0m in \u001b[0;36m<cell line: 1>\u001b[1;34m()\u001b[0m\n\u001b[1;32m----> <a href='vscode-notebook-cell:/d%3A/github/Hospital_nav/HospitalNavPrototype.ipynb#ch0000002?line=0'>1</a>\u001b[0m \u001b[39mimport\u001b[39;00m \u001b[39mfolium\u001b[39;00m\n\u001b[0;32m      <a href='vscode-notebook-cell:/d%3A/github/Hospital_nav/HospitalNavPrototype.ipynb#ch0000002?line=1'>2</a>\u001b[0m \u001b[39mfrom\u001b[39;00m \u001b[39mfolium\u001b[39;00m \u001b[39mimport\u001b[39;00m plugins\n\u001b[0;32m      <a href='vscode-notebook-cell:/d%3A/github/Hospital_nav/HospitalNavPrototype.ipynb#ch0000002?line=2'>3</a>\u001b[0m \u001b[39mimport\u001b[39;00m \u001b[39mpandas\u001b[39;00m \u001b[39mas\u001b[39;00m \u001b[39mpd\u001b[39;00m\n",
            "\u001b[1;31mModuleNotFoundError\u001b[0m: No module named 'folium'"
          ]
        }
      ],
      "source": [
        "import folium\n",
        "from folium import plugins\n",
        "import pandas as pd\n",
        "\n",
        "import ipywidgets\n",
        "import os\n",
        "import json\n",
        "\n",
        "from IPython.display import YouTubeVideo\n",
        "import datetime"
      ]
    },
    {
      "cell_type": "markdown",
      "metadata": {
        "id": "VZd_uQzf-TJo"
      },
      "source": [
        "## To learn the basics about geo visualisation in Python check out this Video about the cholera outbreak in broad street"
      ]
    },
    {
      "cell_type": "code",
      "execution_count": null,
      "metadata": {
        "id": "ZbV0lVd_Uxra"
      },
      "outputs": [],
      "source": [
        "!git clone https://github.com/Sachin-RECB/Hospital_nav.git"
      ]
    },
    {
      "cell_type": "markdown",
      "metadata": {
        "id": "c78wHray6VKo"
      },
      "source": [
        "\n",
        "---\n",
        "## Intitialize Map\n",
        "---"
      ]
    },
    {
      "cell_type": "code",
      "execution_count": null,
      "metadata": {
        "id": "GrqeeJe5VBIl"
      },
      "outputs": [],
      "source": [
        "# the latitude and Longitude coordinates\n",
        "UMMlocation = (49.49216583285166, 8.484229445457458)\n",
        "map_UMM = folium.Map(location = UMMlocation, width = \"75%\", zoom_start = 17) # max zoom: 18\n",
        "map_UMM"
      ]
    },
    {
      "cell_type": "markdown",
      "metadata": {
        "id": "K0PSaHRy6Ond"
      },
      "source": [
        "---\n",
        "## Display geojson Outline\n",
        "---\n",
        "geojson drawing tool: http://geojson.io/"
      ]
    },
    {
      "cell_type": "code",
      "execution_count": null,
      "metadata": {
        "id": "fT-J95e4WPWj"
      },
      "outputs": [],
      "source": [
        "hauseOutline = 'HospitalNavigator/GeoResources/Haus22.geojson'\n",
        "display(folium.GeoJson(hauseOutline, name=\"Haus22\").add_to(map_UMM))\n",
        "display(map_UMM)"
      ]
    },
    {
      "cell_type": "markdown",
      "metadata": {
        "id": "aOzBDuxL6I8C"
      },
      "source": [
        "---\n",
        "##Display Ant Path\n",
        "---"
      ]
    },
    {
      "cell_type": "code",
      "execution_count": null,
      "metadata": {
        "id": "rfrg47U_Qj25"
      },
      "outputs": [],
      "source": [
        "testGeoJson = 'HospitalNavigator/GeoResources/path/w17.geojson'"
      ]
    },
    {
      "cell_type": "code",
      "execution_count": null,
      "metadata": {
        "id": "pIQuMaKydxSC"
      },
      "outputs": [],
      "source": [
        "def switchPosition(coordinate):\n",
        "  temp = coordinate[0]\n",
        "  coordinate[0] = coordinate[1]\n",
        "  coordinate[1] = temp\n",
        "  return coordinate"
      ]
    },
    {
      "cell_type": "code",
      "execution_count": null,
      "metadata": {
        "id": "nfn2vUH1Sq5z"
      },
      "outputs": [],
      "source": [
        "with open(testGeoJson) as f:\n",
        "  testWay = json.load(f)\n",
        "\n",
        "for feature in testWay['features']:\n",
        "    path = feature['geometry']['coordinates']\n",
        "finalPath = list(map(switchPosition,path))\n",
        "finalPath"
      ]
    },
    {
      "cell_type": "code",
      "execution_count": null,
      "metadata": {
        "id": "TtAbktGTZ5bx"
      },
      "outputs": [],
      "source": [
        "path = 'HospitalNavigator/GeoResources/path/w17.geojson'\n",
        "folium.plugins.AntPath([[49.49213534374249, 8.484166413545609],\n",
        " [49.49232786037041, 8.484299182891846],\n",
        " [49.49233047371309, 8.484493643045425],\n",
        " [49.492218099851804, 8.484871834516525],\n",
        " [49.49142363542676, 8.487555384635925],\n",
        " [49.49185222967887, 8.487834334373474],\n",
        " [49.491712849846046, 8.488343954086304],\n",
        " [49.492029938390125, 8.488638997077942],\n",
        " [49.49251776290861, 8.488982319831848],\n",
        " [49.49222506878094, 8.489341735839844],\n",
        " [49.49217977072383, 8.489529490470886],\n",
        " [49.49220764645621, 8.489856719970703]]).add_to(map_UMM)\n",
        "map_UMM"
      ]
    },
    {
      "cell_type": "markdown",
      "metadata": {
        "id": "ifjJu3V16EAs"
      },
      "source": [
        "---\n",
        "## Select Widget\n",
        "---"
      ]
    },
    {
      "cell_type": "code",
      "execution_count": null,
      "metadata": {
        "id": "obbYz7AwRL6K"
      },
      "outputs": [],
      "source": [
        "select_widget=ipywidgets.Select(\n",
        "    options=['Option A', 'Option B'],\n",
        "    value='Option A',\n",
        "    description='Select',\n",
        "    disabled=False)\n",
        "\n",
        "def selectOption(opt):\n",
        "    if opt == 'Option A':\n",
        "        print('A')\n",
        "    if opt == 'Option B':\n",
        "        print('B')\n",
        "\n",
        "ipywidgets.interact(selectOption, opt=select_widget)"
      ]
    },
    {
      "cell_type": "markdown",
      "metadata": {
        "id": "0Q-hv_Wj6nB7"
      },
      "source": [
        "\n",
        "\n",
        "---\n",
        "## Build Navigator Prototype\n",
        "---\n",
        "\n",
        "\n"
      ]
    },
    {
      "cell_type": "code",
      "execution_count": null,
      "metadata": {
        "id": "g_UAR_hEhh5u"
      },
      "outputs": [],
      "source": [
        "class navigator:\n",
        "    def __init__(self):\n",
        "        self.geoResources = {}\n",
        "        self.hospitalLocation =(49.49226339787344, 8.487303256988524)\n",
        "        self.position = 'w'\n",
        "        self.destination = 'Haus17'\n",
        "\n",
        "        for root, dirs, files in os.walk('HospitalNavigator/GeoResources'):  \n",
        "            for file in files:\n",
        "                self.geoResources[file.split('.')[0]] = root+'/'+file\n",
        "\n",
        "    def changeDestination(self,newDestination):\n",
        "        self.destination = newDestination\n",
        "        self.redrawMap()\n",
        "\n",
        "    def changeStartPoint(self, newStartPoint):\n",
        "        \n",
        "        #self.position = newStartPoint #does not work yet\n",
        "        print(f'Selected Start: {newStartPoint}; Selected Target: {self.destination}')\n",
        "        #self.redrawMap()\n",
        "        \n",
        "\n",
        "    def drawPathWay(self,hospitalMap):\n",
        "      \n",
        "      def switchPosition(coordinate):\n",
        "        temp = coordinate[0]\n",
        "        coordinate[0] = coordinate[1]\n",
        "        coordinate[1] = temp\n",
        "        return coordinate\n",
        "\n",
        "      searchString = self.position + self.destination.split('Haus')[1]\n",
        "      with open(self.geoResources[searchString]) as f:\n",
        "           testWay = json.load(f)\n",
        "\n",
        "      for feature in testWay['features']:\n",
        "        path = feature['geometry']['coordinates']\n",
        "\n",
        "      finalPath = list(map(switchPosition,path))\n",
        "      folium.plugins.AntPath(finalPath).add_to(hospitalMap)\n",
        "\n",
        "    def drawBuilding(self,hospitalMap):\n",
        "      hauseOutline = self.geoResources[self.destination]\n",
        "      folium.GeoJson(hauseOutline, name=\"geojson\").add_to(hospitalMap)\n",
        "\n",
        "    def redrawMap(self):\n",
        "        #print(f'position {self.position}, destination {self.destination}')\n",
        "        hospitalMap = folium.Map(location = self.hospitalLocation, width = \"75%\", zoom_start = 17)\n",
        "        self.drawPathWay(hospitalMap)\n",
        "        self.drawBuilding(hospitalMap)\n",
        "        display(hospitalMap)\n",
        "\n",
        "\n"
      ]
    },
    {
      "cell_type": "code",
      "execution_count": null,
      "metadata": {
        "id": "NiF2NcmlVioA"
      },
      "outputs": [],
      "source": [
        "myNavigator = navigator()"
      ]
    },
    {
      "cell_type": "code",
      "execution_count": null,
      "metadata": {
        "id": "1KVHVrwnjD1H"
      },
      "outputs": [],
      "source": [
        "def displayWay(whereTo):\n",
        "     myNavigator.changeDestination(whereTo)"
      ]
    },
    {
      "cell_type": "code",
      "execution_count": null,
      "metadata": {
        "id": "pjRHgbd7jEPb"
      },
      "outputs": [],
      "source": [
        "def changePosition(whereFrom):\n",
        "    myNavigator.changeStartPoint(whereFrom)"
      ]
    },
    {
      "cell_type": "code",
      "execution_count": null,
      "metadata": {
        "id": "m1kE2QZlacKq"
      },
      "outputs": [],
      "source": [
        "# Destination Selector\n",
        "selectHouse_widget=ipywidgets.Select(\n",
        "    \n",
        "options=['Haus1',\n",
        "    'Haus10',\n",
        "    'Haus11',\n",
        "    'Haus12',\n",
        "    'Haus13',\n",
        "    'Haus14',\n",
        "    'Haus15',\n",
        "    'Haus16',\n",
        "    'Haus17',\n",
        "    'Haus19',\n",
        "    'Haus2',\n",
        "    'Haus20',\n",
        "    'Haus22',\n",
        "    'Haus24',\n",
        "    'Haus25',\n",
        "    'Haus26',\n",
        "    'Haus27',\n",
        "    'Haus28',\n",
        "    'Haus29',\n",
        "    'Haus3',\n",
        "    'Haus30',\n",
        "    'Haus31',\n",
        "    'Haus32',\n",
        "    'Haus33',\n",
        "    'Haus34',\n",
        "    'Haus35',\n",
        "    'Haus36',\n",
        "    'Haus37',\n",
        "    'Haus39',\n",
        "    'Haus4',\n",
        "    'Haus40',\n",
        "    'Haus41',\n",
        "    'Haus42',\n",
        "    'Haus43',\n",
        "    'Haus5',\n",
        "    'Haus6',\n",
        "    'Haus7',\n",
        "    'Haus8',\n",
        "    'Haus9'],\n",
        "    value='Haus1',\n",
        "    description='Target',\n",
        "    disabled=False)\n",
        "\n",
        "# widget function\n",
        "def selectHouse(way):\n",
        "    if way == 'Haus1' :\n",
        "        displayWay('Haus1' ) \n",
        "    if way == 'Haus10':\n",
        "        displayWay('Haus10')\n",
        "    if way == 'Haus11':\n",
        "        displayWay('Haus11')\n",
        "    if way == 'Haus12':\n",
        "        displayWay('Haus12')\n",
        "    if way == 'Haus13':\n",
        "        displayWay('Haus13')\n",
        "    if way == 'Haus14':\n",
        "        displayWay('Haus14')\n",
        "    if way == 'Haus15':\n",
        "        displayWay('Haus15')\n",
        "    if way == 'Haus16':\n",
        "        displayWay('Haus16')\n",
        "    if way == 'Haus17':\n",
        "       displayWay('Haus17')\n",
        "    if way == 'Haus19':\n",
        "        displayWay('Haus19')\n",
        "    if way == 'Haus2' :\n",
        "        displayWay('Haus2' ) \n",
        "    if way == 'Haus20':\n",
        "        displayWay('Haus20')\n",
        "    if way == 'Haus22':\n",
        "        displayWay('Haus22')\n",
        "    if way == 'Haus24':\n",
        "        displayWay('Haus24')\n",
        "    if way == 'Haus25':\n",
        "        displayWay('Haus25')\n",
        "    if way == 'Haus26':\n",
        "        displayWay('Haus26')\n",
        "    if way == 'Haus27':\n",
        "        displayWay('Haus27')\n",
        "    if way == 'Haus28':\n",
        "        displayWay('Haus28')\n",
        "    if way == 'Haus29':\n",
        "        displayWay('Haus29')\n",
        "    if way == 'Haus3' :\n",
        "        displayWay('Haus3' ) \n",
        "    if way == 'Haus30':\n",
        "        displayWay('Haus30')\n",
        "    if way == 'Haus31':\n",
        "        displayWay('Haus31')\n",
        "    if way == 'Haus32':\n",
        "        displayWay('Haus32')\n",
        "    if way == 'Haus33':\n",
        "        displayWay('Haus33')\n",
        "    if way == 'Haus34':\n",
        "        displayWay('Haus34')\n",
        "    if way == 'Haus35':\n",
        "        displayWay('Haus35')\n",
        "    if way == 'Haus36':\n",
        "        displayWay('Haus36')\n",
        "    if way == 'Haus37':\n",
        "        displayWay('Haus37')\n",
        "    if way == 'Haus39':\n",
        "        displayWay('Haus39')\n",
        "    if way == 'Haus4' :\n",
        "        displayWay('Haus4' ) \n",
        "    if way == 'Haus40':\n",
        "        displayWay('Haus40')\n",
        "    if way == 'Haus41':\n",
        "        displayWay('Haus41')\n",
        "    if way == 'Haus42':\n",
        "        displayWay('Haus42')\n",
        "    if way == 'Haus43':\n",
        "        displayWay('Haus43')\n",
        "    if way == 'Haus5' :\n",
        "        displayWay('Haus5' ) \n",
        "    if way == 'Haus6' :\n",
        "        displayWay('Haus6' ) \n",
        "    if way == 'Haus7' :\n",
        "        displayWay('Haus7' ) \n",
        "    if way == 'Haus8' :\n",
        "        displayWay('Haus8' ) \n",
        "    if way == 'Haus9' :\n",
        "        displayWay('Haus9' ) \n",
        "\n",
        "# Position Selector\n",
        "selectPosition_widget=ipywidgets.Select(\n",
        "    options=['Aufnahme', 'Eingang West', 'Eingang Ost', 'Eingang Fahrzeuge'],\n",
        "    value='Eingang West',\n",
        "    description='Start',\n",
        "    disabled=False)\n",
        "\n",
        "def selectPosition(position):\n",
        "    if position == 'Aufnahme':\n",
        "        changePosition('a')\n",
        "    if position == 'Eingang West':\n",
        "        changePosition('w')\n",
        "    if position == 'Eingang Ost':\n",
        "        changePosition('o')\n",
        "    if position == 'Eingang Fahrzeuge':\n",
        "        changePosition('f')\n",
        "        \n",
        "#Initialization   \n",
        "ipywidgets.interact(selectPosition, position=selectPosition_widget)\n",
        "ipywidgets.interact(selectHouse, way=selectHouse_widget)"
      ]
    },
    {
      "cell_type": "code",
      "execution_count": null,
      "metadata": {
        "id": "gu_bjlTMPOnb"
      },
      "outputs": [],
      "source": []
    }
  ],
  "metadata": {
    "colab": {
      "authorship_tag": "ABX9TyOUf+xaSIJK+5l+sRqw6/rf",
      "collapsed_sections": [],
      "include_colab_link": true,
      "name": "HospitalNavPrototype.ipynb",
      "provenance": []
    },
    "interpreter": {
      "hash": "5a3ba0ff18176c07ff7b19c08bf73fa97b3df772a4580ea98258ad9c63151e43"
    },
    "kernelspec": {
      "display_name": "Python 3.9.12 ('base')",
      "language": "python",
      "name": "python3"
    },
    "language_info": {
      "codemirror_mode": {
        "name": "ipython",
        "version": 3
      },
      "file_extension": ".py",
      "mimetype": "text/x-python",
      "name": "python",
      "nbconvert_exporter": "python",
      "pygments_lexer": "ipython3",
      "version": "3.9.12"
    }
  },
  "nbformat": 4,
  "nbformat_minor": 0
}
